{
  "nbformat": 4,
  "nbformat_minor": 0,
  "metadata": {
    "colab": {
      "provenance": []
    },
    "kernelspec": {
      "name": "python3",
      "display_name": "Python 3"
    },
    "language_info": {
      "name": "python"
    }
  },
  "cells": [
    {
      "cell_type": "code",
      "source": [
        "import nltk\n",
        "nltk.download('punkt')\n",
        "nltk.download('stopwords')\n",
        "from nltk.corpus import stopwords"
      ],
      "metadata": {
        "colab": {
          "base_uri": "https://localhost:8080/"
        },
        "id": "UecuQAFD8g63",
        "outputId": "4fbb3760-69fe-4e31-8a81-a8178e1db156"
      },
      "execution_count": null,
      "outputs": [
        {
          "output_type": "stream",
          "name": "stderr",
          "text": [
            "[nltk_data] Downloading package punkt to /root/nltk_data...\n",
            "[nltk_data]   Package punkt is already up-to-date!\n",
            "[nltk_data] Downloading package stopwords to /root/nltk_data...\n",
            "[nltk_data]   Package stopwords is already up-to-date!\n"
          ]
        }
      ]
    },
    {
      "cell_type": "code",
      "source": [
        "print(stopwords.words('english'))"
      ],
      "metadata": {
        "colab": {
          "base_uri": "https://localhost:8080/"
        },
        "id": "pVuQ8gW_9WVu",
        "outputId": "0c3479fa-ddd1-441a-9c49-3a2b4b2c5840"
      },
      "execution_count": null,
      "outputs": [
        {
          "output_type": "stream",
          "name": "stdout",
          "text": [
            "['i', 'me', 'my', 'myself', 'we', 'our', 'ours', 'ourselves', 'you', \"you're\", \"you've\", \"you'll\", \"you'd\", 'your', 'yours', 'yourself', 'yourselves', 'he', 'him', 'his', 'himself', 'she', \"she's\", 'her', 'hers', 'herself', 'it', \"it's\", 'its', 'itself', 'they', 'them', 'their', 'theirs', 'themselves', 'what', 'which', 'who', 'whom', 'this', 'that', \"that'll\", 'these', 'those', 'am', 'is', 'are', 'was', 'were', 'be', 'been', 'being', 'have', 'has', 'had', 'having', 'do', 'does', 'did', 'doing', 'a', 'an', 'the', 'and', 'but', 'if', 'or', 'because', 'as', 'until', 'while', 'of', 'at', 'by', 'for', 'with', 'about', 'against', 'between', 'into', 'through', 'during', 'before', 'after', 'above', 'below', 'to', 'from', 'up', 'down', 'in', 'out', 'on', 'off', 'over', 'under', 'again', 'further', 'then', 'once', 'here', 'there', 'when', 'where', 'why', 'how', 'all', 'any', 'both', 'each', 'few', 'more', 'most', 'other', 'some', 'such', 'no', 'nor', 'not', 'only', 'own', 'same', 'so', 'than', 'too', 'very', 's', 't', 'can', 'will', 'just', 'don', \"don't\", 'should', \"should've\", 'now', 'd', 'll', 'm', 'o', 're', 've', 'y', 'ain', 'aren', \"aren't\", 'couldn', \"couldn't\", 'didn', \"didn't\", 'doesn', \"doesn't\", 'hadn', \"hadn't\", 'hasn', \"hasn't\", 'haven', \"haven't\", 'isn', \"isn't\", 'ma', 'mightn', \"mightn't\", 'mustn', \"mustn't\", 'needn', \"needn't\", 'shan', \"shan't\", 'shouldn', \"shouldn't\", 'wasn', \"wasn't\", 'weren', \"weren't\", 'won', \"won't\", 'wouldn', \"wouldn't\"]\n"
          ]
        }
      ]
    },
    {
      "cell_type": "code",
      "source": [
        "from nltk.tokenize import word_tokenize"
      ],
      "metadata": {
        "id": "DSPJRzAl-1xo"
      },
      "execution_count": null,
      "outputs": []
    },
    {
      "cell_type": "code",
      "source": [
        "exa=\"\"\"ChatGPT was launched as a prototype on November 30, 2022. \n",
        "The website had more than one million users after five days.By January 2023, ChatGPT reached over 100 million users.\n",
        "It got attention for its answers in many areas of knowledge but its uneven accuracy was said to be a major drawback.\"\"\""
      ],
      "metadata": {
        "id": "UBQWi7od9fsD"
      },
      "execution_count": null,
      "outputs": []
    },
    {
      "cell_type": "code",
      "source": [
        "stop_words=set(stopwords.words('english'))"
      ],
      "metadata": {
        "id": "FP3bTlcv_fPn"
      },
      "execution_count": null,
      "outputs": []
    },
    {
      "cell_type": "code",
      "source": [
        "wrtk=word_tokenize(exa)"
      ],
      "metadata": {
        "id": "9_uPqUy9ALWT"
      },
      "execution_count": null,
      "outputs": []
    },
    {
      "cell_type": "code",
      "source": [
        "fil_sen=[]\n",
        "for w in wrtk:\n",
        "  if w not in stop_words:\n",
        "    fil_sen.append(w)"
      ],
      "metadata": {
        "id": "hDt-U2fEAXhK"
      },
      "execution_count": null,
      "outputs": []
    },
    {
      "cell_type": "code",
      "source": [
        "print(wrtk)"
      ],
      "metadata": {
        "colab": {
          "base_uri": "https://localhost:8080/"
        },
        "id": "Gn7_IR2xAxrG",
        "outputId": "9e487ba8-2a02-474d-890a-cc529427d857"
      },
      "execution_count": null,
      "outputs": [
        {
          "output_type": "stream",
          "name": "stdout",
          "text": [
            "['ChatGPT', 'was', 'launched', 'as', 'a', 'prototype', 'on', 'November', '30', ',', '2022', '.', 'The', 'website', 'had', 'more', 'than', 'one', 'million', 'users', 'after', 'five', 'days.By', 'January', '2023', ',', 'ChatGPT', 'reached', 'over', '100', 'million', 'users', '.', 'It', 'got', 'attention', 'for', 'its', 'answers', 'in', 'many', 'areas', 'of', 'knowledge', 'but', 'its', 'uneven', 'accuracy', 'was', 'said', 'to', 'be', 'a', 'major', 'drawback', '.']\n"
          ]
        }
      ]
    },
    {
      "cell_type": "code",
      "source": [
        "print(fil_sen)"
      ],
      "metadata": {
        "colab": {
          "base_uri": "https://localhost:8080/"
        },
        "id": "ehWHJBFoBJ2I",
        "outputId": "5c90d80b-ffd2-4717-ce36-955c38cefb95"
      },
      "execution_count": null,
      "outputs": [
        {
          "output_type": "stream",
          "name": "stdout",
          "text": [
            "['ChatGPT', 'launched', 'prototype', 'November', '30', ',', '2022', '.', 'The', 'website', 'one', 'million', 'users', 'five', 'days.By', 'January', '2023', ',', 'ChatGPT', 'reached', '100', 'million', 'users', '.', 'It', 'got', 'attention', 'answers', 'many', 'areas', 'knowledge', 'uneven', 'accuracy', 'said', 'major', 'drawback', '.']\n"
          ]
        }
      ]
    },
    {
      "cell_type": "code",
      "source": [
        "fil_sent1 = [x for x in wrtk if x.lower() not in stop_words and x.lower().isalpha()]\n",
        "print(fil_senp1)"
      ],
      "metadata": {
        "colab": {
          "base_uri": "https://localhost:8080/"
        },
        "id": "sk2qXjEGBgh7",
        "outputId": "43c5d25c-01fe-4d38-ff1b-ba9dec672203"
      },
      "execution_count": null,
      "outputs": [
        {
          "output_type": "stream",
          "name": "stdout",
          "text": [
            "['ChatGPT', 'launched', 'prototype', 'November', 'website', 'one', 'million', 'users', 'five', 'January', 'ChatGPT', 'reached', 'million', 'users', 'got', 'attention', 'answers', 'many', 'areas', 'knowledge', 'uneven', 'accuracy', 'said', 'major', 'drawback']\n"
          ]
        }
      ]
    },
    {
      "cell_type": "code",
      "source": [
        "fil_sent2=[]\n",
        "for w in wrtk:\n",
        "  if w.isalpha():\n",
        "      fil_sent2.append(w)"
      ],
      "metadata": {
        "id": "KkQ5XIMmCBnF"
      },
      "execution_count": null,
      "outputs": []
    },
    {
      "cell_type": "code",
      "source": [
        "print(fil_sent2)"
      ],
      "metadata": {
        "colab": {
          "base_uri": "https://localhost:8080/"
        },
        "id": "0WbAPXN6Ctpx",
        "outputId": "5dee80e9-3c13-4e64-b7fb-fb55f831ed45"
      },
      "execution_count": null,
      "outputs": [
        {
          "output_type": "stream",
          "name": "stdout",
          "text": [
            "['ChatGPT', 'was', 'launched', 'as', 'a', 'prototype', 'on', 'November', 'The', 'website', 'had', 'more', 'than', 'one', 'million', 'users', 'after', 'five', 'January', 'ChatGPT', 'reached', 'over', 'million', 'users', 'It', 'got', 'attention', 'for', 'its', 'answers', 'in', 'many', 'areas', 'of', 'knowledge', 'but', 'its', 'uneven', 'accuracy', 'was', 'said', 'to', 'be', 'a', 'major', 'drawback']\n"
          ]
        }
      ]
    },
    {
      "cell_type": "code",
      "source": [
        "print(*fil_sent2)"
      ],
      "metadata": {
        "colab": {
          "base_uri": "https://localhost:8080/"
        },
        "id": "q3lDEXUFC0KE",
        "outputId": "8d0fd85b-79f6-44b5-cd5b-5fc97e768cd0"
      },
      "execution_count": null,
      "outputs": [
        {
          "output_type": "stream",
          "name": "stdout",
          "text": [
            "ChatGPT was launched as a prototype on November The website had more than one million users after five January ChatGPT reached over million users It got attention for its answers in many areas of knowledge but its uneven accuracy was said to be a major drawback\n"
          ]
        }
      ]
    }
  ]
}